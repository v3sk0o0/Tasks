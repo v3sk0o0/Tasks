{
 "cells": [
  {
   "cell_type": "code",
   "execution_count": 18,
   "metadata": {},
   "outputs": [
    {
     "name": "stdout",
     "output_type": "stream",
     "text": [
      "Rostislav sends 10 $!\n"
     ]
    }
   ],
   "source": [
    "import pdb\n",
    "\n",
    "def accepts(*args):\n",
    "    \n",
    "    types = list(args)\n",
    "\n",
    "    def real_decorator(function):\n",
    "        def wrapper(*args, **kwargs ):\n",
    "\n",
    "            if len(types) !=  len(args):\n",
    "                raise TypeError(\"Different number of argumens\") \n",
    "            for index in range(len(args)):\n",
    "                   if type(args[index]) != types[index]:\n",
    "                        raise TypeError(\"Argument {0} of {1} is not {2}!\".format(index,function.__name__,types[index].__name__))\n",
    "            function(*args, **kwargs)\n",
    "\n",
    "            \n",
    "        return wrapper\n",
    "    return real_decorator\n",
    "\n",
    "@accepts(str, str,)\n",
    "def deposit(name, money):\n",
    "    print(\"{} sends {} $!\".format(name, money))\n",
    "    return True\n",
    "\n",
    "deposit(\"Rostislav\", \"10\")   \n",
    "\n"
   ]
  },
  {
   "cell_type": "code",
   "execution_count": null,
   "metadata": {},
   "outputs": [],
   "source": []
  },
  {
   "cell_type": "code",
   "execution_count": 2,
   "metadata": {},
   "outputs": [
    {
     "data": {
      "text/plain": [
       "'Igv igv igv nqy'"
      ]
     },
     "execution_count": 2,
     "metadata": {},
     "output_type": "execute_result"
    }
   ],
   "source": [
    "import pdb\n",
    "from functools import wraps\n",
    "\n",
    "def cypher(symbol, indentation):\n",
    "    if  \"A\" <= symbol <= \"Z\":\n",
    "        return (chr(ord(\"A\") + ((ord(symbol) - ord(\"A\") + indentation) % 26) ))\n",
    "    elif \"a\" <= symbol <= \"z\":\n",
    "        return (chr(ord(\"a\") + ((ord(symbol) - ord(\"a\") + indentation) % 26) ))\n",
    "    else:\n",
    "         return symbol\n",
    "\n",
    "def encrypt(argument):\n",
    "\n",
    "    if type(argument) != int:\n",
    "        raise TypeError(\"Expected integer as an argument\")\n",
    "    def real_decorator(function):\n",
    "             \n",
    "        def wrapper():   \n",
    "            result = (\"\".join( [ cypher(char, argument % 26) for char in function() ]) )\n",
    "            return result\n",
    "        wrapper.__name__ = function.__name__     \n",
    "        return wrapper                \n",
    "    return real_decorator\n",
    "\n",
    "@encrypt(2)\n",
    "def get_low():\n",
    "    return \"Get get get low\"\n",
    "\n",
    "get_low()\n",
    "\n"
   ]
  },
  {
   "cell_type": "code",
   "execution_count": null,
   "metadata": {
    "scrolled": true
   },
   "outputs": [],
   "source": [
    "    \n"
   ]
  },
  {
   "cell_type": "code",
   "execution_count": 6,
   "metadata": {
    "scrolled": true
   },
   "outputs": [
    {
     "data": {
      "text/plain": [
       "'Igv igv igv nqy'"
      ]
     },
     "execution_count": 6,
     "metadata": {},
     "output_type": "execute_result"
    }
   ],
   "source": [
    "from datetime import datetime\n",
    "import os\n",
    "\n",
    "def log(filename):\n",
    "\n",
    "    def real_decorator(function):\n",
    "     \n",
    "        def wrapper(*args, **kwargs):  \n",
    "\n",
    "            dt = datetime.now()\n",
    "            message = dt.strftime(\"{0} was called at %Y-%d-%m %H:%M:%S.%f\".format(function.__name__))  \n",
    "            with open(filename, 'a') as the_file:\n",
    "                the_file.write(message +  os.linesep)   \n",
    "            return function(*args, **kwargs)\n",
    "        return wrapper \n",
    "    return real_decorator\n",
    "\n",
    "\n",
    "@encrypt(2)\n",
    "@log('log.txt')\n",
    "def get_loowe():\n",
    "    return \"Get get get low\"\n",
    "\n",
    "get_loowe()\n",
    "\n",
    "@log('log.txt')\n",
    "@encrypt(2)\n",
    "def get_loowe():\n",
    "    return \"Get get get low\"\n",
    "\n",
    "get_loowe()"
   ]
  },
  {
   "cell_type": "code",
   "execution_count": null,
   "metadata": {},
   "outputs": [],
   "source": []
  },
  {
   "cell_type": "code",
   "execution_count": null,
   "metadata": {},
   "outputs": [],
   "source": []
  },
  {
   "cell_type": "code",
   "execution_count": 25,
   "metadata": {},
   "outputs": [
    {
     "data": {
      "text/plain": [
       "'I am done!'"
      ]
     },
     "execution_count": 25,
     "metadata": {},
     "output_type": "execute_result"
    }
   ],
   "source": [
    "import time\n",
    "import datetime\n",
    "import os\n",
    "\n",
    "def performance(filename):\n",
    "    def real_decorator(function):\n",
    "        \n",
    "        def wrapper(*args, **kwargs):  \n",
    "            start = datetime.datetime.now()  \n",
    "            result = function()\n",
    "            stop  = datetime.datetime.now()\n",
    "            difference = stop - start\n",
    "            message = \"{0} was called and took {1} seconds to complete\".format(function.__name__, difference.total_seconds())\n",
    "            with open(filename, 'a') as the_file:\n",
    "                the_file.write(message +  os.linesep)\n",
    "            return result\n",
    "              \n",
    "        return wrapper     \n",
    "    return real_decorator\n",
    "\n",
    "\n",
    "@performance('log.txt')\n",
    "def something_heavy():\n",
    "    time.sleep(2)\n",
    "    return \"I am done!\"\n",
    "\n",
    "something_heavy()"
   ]
  },
  {
   "cell_type": "code",
   "execution_count": null,
   "metadata": {},
   "outputs": [],
   "source": []
  },
  {
   "cell_type": "code",
   "execution_count": null,
   "metadata": {},
   "outputs": [],
   "source": []
  },
  {
   "cell_type": "code",
   "execution_count": null,
   "metadata": {},
   "outputs": [],
   "source": []
  },
  {
   "cell_type": "code",
   "execution_count": null,
   "metadata": {},
   "outputs": [],
   "source": []
  },
  {
   "cell_type": "code",
   "execution_count": null,
   "metadata": {},
   "outputs": [],
   "source": []
  },
  {
   "cell_type": "code",
   "execution_count": null,
   "metadata": {},
   "outputs": [],
   "source": []
  },
  {
   "cell_type": "code",
   "execution_count": null,
   "metadata": {},
   "outputs": [],
   "source": []
  },
  {
   "cell_type": "code",
   "execution_count": null,
   "metadata": {},
   "outputs": [],
   "source": []
  },
  {
   "cell_type": "markdown",
   "metadata": {},
   "source": []
  }
 ],
 "metadata": {
  "kernelspec": {
   "display_name": "Python 3",
   "language": "python",
   "name": "python3"
  },
  "language_info": {
   "codemirror_mode": {
    "name": "ipython",
    "version": 3
   },
   "file_extension": ".py",
   "mimetype": "text/x-python",
   "name": "python",
   "nbconvert_exporter": "python",
   "pygments_lexer": "ipython3",
   "version": "3.5.2"
  }
 },
 "nbformat": 4,
 "nbformat_minor": 2
}
